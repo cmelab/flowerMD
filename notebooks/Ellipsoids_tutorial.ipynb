{
 "cells": [
  {
   "cell_type": "code",
   "execution_count": 1,
   "id": "c0d4d0dc-be45-4a3f-8d1c-a3c09ca89d32",
   "metadata": {},
   "outputs": [],
   "source": [
    "import warnings\n",
    "warnings.filterwarnings('ignore')\n",
    "import hoomd\n",
    "import gsd\n",
    "import matplotlib.pyplot as plt\n",
    "import numpy as np\n",
    "import gsd.hoomd\n",
    "from flowermd.utils import get_target_box_number_density\n",
    "import unyt as u\n",
    "import hoomd"
   ]
  },
  {
   "cell_type": "markdown",
   "id": "099a2e10-84e8-4e2d-8867-c6adffb0cc79",
   "metadata": {},
   "source": [
    "## System Initialization"
   ]
  },
  {
   "cell_type": "code",
   "execution_count": 3,
   "id": "8b02a48c-efac-46af-a421-c6c21e8b0936",
   "metadata": {},
   "outputs": [],
   "source": [
    "from flowermd.base import Pack,Lattice, Simulation\n",
    "from flowermd.library import EllipsoidChain\n",
    "\n",
    "ellipsoid_chain = EllipsoidChain(lengths=1,num_mols=10,lpar=1.0,bead_mass=1.0)\n",
    "system = Pack(molecules=ellipsoid_chain, density=0.05*u.Unit(\"nm**-3\"), packing_expand_factor=6,edge=2,overlap=1,fix_orientation=True)"
   ]
  },
  {
   "cell_type": "markdown",
   "id": "b81b046b-e40c-4f86-a248-afce3a6f25ea",
   "metadata": {},
   "source": [
    "## Forcefield definition"
   ]
  },
  {
   "cell_type": "code",
   "execution_count": 4,
   "id": "294093ca-b4d0-4dde-9892-1376790c5ca2",
   "metadata": {},
   "outputs": [],
   "source": [
    "from flowermd.library import EllipsoidForcefield\n",
    "\n",
    "ff = EllipsoidForcefield(epsilon=1.0,lpar=2.0,lperp=1.0,r_cut=2.5,bond_k=None,bond_r0=None)"
   ]
  },
  {
   "cell_type": "markdown",
   "id": "eb5b77c5-70d9-4a55-8f51-9580ff3377c0",
   "metadata": {},
   "source": [
    "## Rigid Body Constraint"
   ]
  },
  {
   "cell_type": "code",
   "execution_count": 8,
   "id": "f7c9f312-1c89-4bca-aa98-e0fa2f3629be",
   "metadata": {},
   "outputs": [],
   "source": [
    "from flowermd.utils.constraints import create_rigid_ellipsoid_chain\n",
    "\n",
    "rigid_frame, rigid = create_rigid_ellipsoid_chain(system.hoomd_snapshot)"
   ]
  },
  {
   "cell_type": "markdown",
   "id": "55dbbf68-10f4-43d6-a743-11931ce7d0e4",
   "metadata": {},
   "source": [
    "## Simulation"
   ]
  },
  {
   "cell_type": "code",
   "execution_count": 9,
   "id": "104d111a-a0d5-4e23-bd59-721dcf1d240c",
   "metadata": {},
   "outputs": [],
   "source": [
    "del ellipsoid_sim"
   ]
  },
  {
   "cell_type": "code",
   "execution_count": 10,
   "id": "087db7f2-1a71-4186-9490-51e504ecdb5c",
   "metadata": {},
   "outputs": [
    {
     "name": "stdout",
     "output_type": "stream",
     "text": [
      "Initializing simulation state from a gsd.hoomd.Frame.\n"
     ]
    },
    {
     "ename": "RuntimeError",
     "evalue": "Cannot place <hoomd.md.bond.Harmonic object at 0x28d268530> into two simulations.",
     "output_type": "error",
     "traceback": [
      "\u001b[31m---------------------------------------------------------------------------\u001b[39m",
      "\u001b[31mRuntimeError\u001b[39m                              Traceback (most recent call last)",
      "\u001b[36mCell\u001b[39m\u001b[36m \u001b[39m\u001b[32mIn[10]\u001b[39m\u001b[32m, line 13\u001b[39m\n\u001b[32m      2\u001b[39m ellipsoid_sim = Simulation(\n\u001b[32m      3\u001b[39m     initial_state=rigid_frame,\n\u001b[32m      4\u001b[39m     forcefield=ff.hoomd_forces,\n\u001b[32m   (...)\u001b[39m\u001b[32m      9\u001b[39m     log_write_freq=\u001b[38;5;28mint\u001b[39m(\u001b[32m1e4\u001b[39m),\n\u001b[32m     10\u001b[39m     log_file_name=\u001b[33m'\u001b[39m\u001b[33mlog.txt\u001b[39m\u001b[33m'\u001b[39m)\n\u001b[32m     12\u001b[39m target_box = get_target_box_number_density(density=\u001b[32m0.05\u001b[39m*u.Unit(\u001b[33m\"\u001b[39m\u001b[33mnm**-3\u001b[39m\u001b[33m\"\u001b[39m),n_beads=\u001b[32m20\u001b[39m)\n\u001b[32m---> \u001b[39m\u001b[32m13\u001b[39m \u001b[43mellipsoid_sim\u001b[49m\u001b[43m.\u001b[49m\u001b[43mrun_update_volume\u001b[49m\u001b[43m(\u001b[49m\u001b[43mfinal_box_lengths\u001b[49m\u001b[43m=\u001b[49m\u001b[43mtarget_box\u001b[49m\u001b[43m,\u001b[49m\u001b[43m \u001b[49m\u001b[43mkT\u001b[49m\u001b[43m=\u001b[49m\u001b[32;43m7.0\u001b[39;49m\u001b[43m,\u001b[49m\u001b[43m \u001b[49m\u001b[43mn_steps\u001b[49m\u001b[43m=\u001b[49m\u001b[32;43m1e5\u001b[39;49m\u001b[43m,\u001b[49m\u001b[43mtau_kt\u001b[49m\u001b[43m=\u001b[49m\u001b[32;43m100\u001b[39;49m\u001b[43m*\u001b[49m\u001b[43mellipsoid_sim\u001b[49m\u001b[43m.\u001b[49m\u001b[43mdt\u001b[49m\u001b[43m,\u001b[49m\u001b[43mperiod\u001b[49m\u001b[43m=\u001b[49m\u001b[32;43m10\u001b[39;49m\u001b[43m,\u001b[49m\u001b[43mthermalize_particles\u001b[49m\u001b[43m=\u001b[49m\u001b[38;5;28;43;01mTrue\u001b[39;49;00m\u001b[43m)\u001b[49m\n\u001b[32m     14\u001b[39m \u001b[38;5;28mprint\u001b[39m(\u001b[33m\"\u001b[39m\u001b[33mshrink finished\u001b[39m\u001b[33m\"\u001b[39m)\n\u001b[32m     15\u001b[39m ellipsoid_sim.run_NVT(n_steps=\u001b[32m1e5\u001b[39m, kT=\u001b[32m1.0\u001b[39m, tau_kt=\u001b[32m10\u001b[39m*ellipsoid_sim.dt)\n",
      "\u001b[36mFile \u001b[39m\u001b[32m~/Desktop/cmelab/forks/flowerMD/flowermd/base/simulation.py:761\u001b[39m, in \u001b[36mSimulation.run_update_volume\u001b[39m\u001b[34m(self, final_box_lengths, n_steps, period, kT, tau_kt, thermalize_particles, write_at_start)\u001b[39m\n\u001b[32m    756\u001b[39m box_resizer = hoomd.update.BoxResize(\n\u001b[32m    757\u001b[39m     box=box_variant,\n\u001b[32m    758\u001b[39m     trigger=resize_trigger,\n\u001b[32m    759\u001b[39m )\n\u001b[32m    760\u001b[39m \u001b[38;5;28mself\u001b[39m.operations.updaters.append(box_resizer)\n\u001b[32m--> \u001b[39m\u001b[32m761\u001b[39m \u001b[38;5;28;43mself\u001b[39;49m\u001b[43m.\u001b[49m\u001b[43mset_integrator_method\u001b[49m\u001b[43m(\u001b[49m\n\u001b[32m    762\u001b[39m \u001b[43m    \u001b[49m\u001b[43mintegrator_method\u001b[49m\u001b[43m=\u001b[49m\u001b[43mhoomd\u001b[49m\u001b[43m.\u001b[49m\u001b[43mmd\u001b[49m\u001b[43m.\u001b[49m\u001b[43mmethods\u001b[49m\u001b[43m.\u001b[49m\u001b[43mConstantVolume\u001b[49m\u001b[43m,\u001b[49m\n\u001b[32m    763\u001b[39m \u001b[43m    \u001b[49m\u001b[43mmethod_kwargs\u001b[49m\u001b[43m=\u001b[49m\u001b[43m{\u001b[49m\n\u001b[32m    764\u001b[39m \u001b[43m        \u001b[49m\u001b[33;43m\"\u001b[39;49m\u001b[33;43mthermostat\u001b[39;49m\u001b[33;43m\"\u001b[39;49m\u001b[43m:\u001b[49m\u001b[43m \u001b[49m\u001b[38;5;28;43mself\u001b[39;49m\u001b[43m.\u001b[49m\u001b[43m_initialize_thermostat\u001b[49m\u001b[43m(\u001b[49m\n\u001b[32m    765\u001b[39m \u001b[43m            \u001b[49m\u001b[43m{\u001b[49m\u001b[33;43m\"\u001b[39;49m\u001b[33;43mkT\u001b[39;49m\u001b[33;43m\"\u001b[39;49m\u001b[43m:\u001b[49m\u001b[43m \u001b[49m\u001b[43mkT\u001b[49m\u001b[43m,\u001b[49m\u001b[43m \u001b[49m\u001b[33;43m\"\u001b[39;49m\u001b[33;43mtau\u001b[39;49m\u001b[33;43m\"\u001b[39;49m\u001b[43m:\u001b[49m\u001b[43m \u001b[49m\u001b[43mtau_kt\u001b[49m\u001b[43m}\u001b[49m\n\u001b[32m    766\u001b[39m \u001b[43m        \u001b[49m\u001b[43m)\u001b[49m\u001b[43m,\u001b[49m\n\u001b[32m    767\u001b[39m \u001b[43m        \u001b[49m\u001b[33;43m\"\u001b[39;49m\u001b[33;43mfilter\u001b[39;49m\u001b[33;43m\"\u001b[39;49m\u001b[43m:\u001b[49m\u001b[43m \u001b[49m\u001b[38;5;28;43mself\u001b[39;49m\u001b[43m.\u001b[49m\u001b[43mintegrate_group\u001b[49m\u001b[43m,\u001b[49m\n\u001b[32m    768\u001b[39m \u001b[43m    \u001b[49m\u001b[43m}\u001b[49m\u001b[43m,\u001b[49m\n\u001b[32m    769\u001b[39m \u001b[43m\u001b[49m\u001b[43m)\u001b[49m\n\u001b[32m    770\u001b[39m \u001b[38;5;28;01mif\u001b[39;00m thermalize_particles:\n\u001b[32m    771\u001b[39m     \u001b[38;5;28mself\u001b[39m._thermalize_system(kT)\n",
      "\u001b[36mFile \u001b[39m\u001b[32m~/Desktop/cmelab/forks/flowerMD/flowermd/base/simulation.py:607\u001b[39m, in \u001b[36mSimulation.set_integrator_method\u001b[39m\u001b[34m(self, integrator_method, method_kwargs)\u001b[39m\n\u001b[32m    605\u001b[39m \u001b[38;5;28;01mif\u001b[39;00m \u001b[38;5;28mself\u001b[39m._distance_constraint:\n\u001b[32m    606\u001b[39m     \u001b[38;5;28mself\u001b[39m.integrator.constraints.append(\u001b[38;5;28mself\u001b[39m._distance_constraint)\n\u001b[32m--> \u001b[39m\u001b[32m607\u001b[39m \u001b[38;5;28;43mself\u001b[39;49m\u001b[43m.\u001b[49m\u001b[43mintegrator\u001b[49m\u001b[43m.\u001b[49m\u001b[43mforces\u001b[49m = \u001b[38;5;28mself\u001b[39m._forcefield\n\u001b[32m    608\u001b[39m \u001b[38;5;28mself\u001b[39m.operations.add(\u001b[38;5;28mself\u001b[39m.integrator)\n\u001b[32m    609\u001b[39m new_method = integrator_method(**method_kwargs)\n",
      "\u001b[36mFile \u001b[39m\u001b[32m~/miniforge3/envs/flowermd-dev/lib/python3.12/site-packages/hoomd/md/integrate.py:366\u001b[39m, in \u001b[36mIntegrator.__setattr__\u001b[39m\u001b[34m(self, attr, value)\u001b[39m\n\u001b[32m    364\u001b[39m \u001b[38;5;28;01mdef\u001b[39;00m\u001b[38;5;250m \u001b[39m\u001b[34m__setattr__\u001b[39m(\u001b[38;5;28mself\u001b[39m, attr, value):\n\u001b[32m    365\u001b[39m \u001b[38;5;250m    \u001b[39m\u001b[33;03m\"\"\"Handle group DOF update when setting integrate_rotational_dof.\"\"\"\u001b[39;00m\n\u001b[32m--> \u001b[39m\u001b[32m366\u001b[39m     \u001b[38;5;28;43msuper\u001b[39;49m\u001b[43m(\u001b[49m\u001b[43m)\u001b[49m\u001b[43m.\u001b[49m\u001b[34;43m__setattr__\u001b[39;49m\u001b[43m(\u001b[49m\u001b[43mattr\u001b[49m\u001b[43m,\u001b[49m\u001b[43m \u001b[49m\u001b[43mvalue\u001b[49m\u001b[43m)\u001b[49m\n\u001b[32m    367\u001b[39m     \u001b[38;5;28;01mif\u001b[39;00m (\n\u001b[32m    368\u001b[39m         attr == \u001b[33m\"\u001b[39m\u001b[33mintegrate_rotational_dof\u001b[39m\u001b[33m\"\u001b[39m\n\u001b[32m    369\u001b[39m         \u001b[38;5;129;01mand\u001b[39;00m \u001b[38;5;28mself\u001b[39m._simulation \u001b[38;5;129;01mis\u001b[39;00m \u001b[38;5;129;01mnot\u001b[39;00m \u001b[38;5;28;01mNone\u001b[39;00m\n\u001b[32m    370\u001b[39m         \u001b[38;5;129;01mand\u001b[39;00m \u001b[38;5;28mself\u001b[39m._simulation.state \u001b[38;5;129;01mis\u001b[39;00m \u001b[38;5;129;01mnot\u001b[39;00m \u001b[38;5;28;01mNone\u001b[39;00m\n\u001b[32m    371\u001b[39m     ):\n\u001b[32m    372\u001b[39m         \u001b[38;5;28mself\u001b[39m._simulation.state.update_group_dof()\n",
      "\u001b[36mFile \u001b[39m\u001b[32m~/miniforge3/envs/flowermd-dev/lib/python3.12/site-packages/hoomd/operation.py:91\u001b[39m, in \u001b[36m_HOOMDGetSetAttrBase.__setattr__\u001b[39m\u001b[34m(self, attr, value)\u001b[39m\n\u001b[32m     89\u001b[39m     \u001b[38;5;28mself\u001b[39m._setattr_typeparam(attr, value)\n\u001b[32m     90\u001b[39m \u001b[38;5;28;01melse\u001b[39;00m:\n\u001b[32m---> \u001b[39m\u001b[32m91\u001b[39m     \u001b[38;5;28;43mself\u001b[39;49m\u001b[43m.\u001b[49m\u001b[43m_setattr_hook\u001b[49m\u001b[43m(\u001b[49m\u001b[43mattr\u001b[49m\u001b[43m,\u001b[49m\u001b[43m \u001b[49m\u001b[43mvalue\u001b[49m\u001b[43m)\u001b[49m\n",
      "\u001b[36mFile \u001b[39m\u001b[32m~/miniforge3/envs/flowermd-dev/lib/python3.12/site-packages/hoomd/operation.py:95\u001b[39m, in \u001b[36m_HOOMDGetSetAttrBase._setattr_hook\u001b[39m\u001b[34m(self, attr, value)\u001b[39m\n\u001b[32m     93\u001b[39m \u001b[38;5;28;01mdef\u001b[39;00m\u001b[38;5;250m \u001b[39m\u001b[34m_setattr_hook\u001b[39m(\u001b[38;5;28mself\u001b[39m, attr, value):\n\u001b[32m     94\u001b[39m \u001b[38;5;250m    \u001b[39m\u001b[33;03m\"\"\"Used when attr is not found in `_param_dict` or `_typeparam_dict`.\"\"\"\u001b[39;00m\n\u001b[32m---> \u001b[39m\u001b[32m95\u001b[39m     \u001b[38;5;28;43msuper\u001b[39;49m\u001b[43m(\u001b[49m\u001b[43m)\u001b[49m\u001b[43m.\u001b[49m\u001b[34;43m__setattr__\u001b[39;49m\u001b[43m(\u001b[49m\u001b[43mattr\u001b[49m\u001b[43m,\u001b[49m\u001b[43m \u001b[49m\u001b[43mvalue\u001b[49m\u001b[43m)\u001b[49m\n",
      "\u001b[36mFile \u001b[39m\u001b[32m~/miniforge3/envs/flowermd-dev/lib/python3.12/site-packages/hoomd/md/integrate.py:81\u001b[39m, in \u001b[36m_DynamicIntegrator.forces\u001b[39m\u001b[34m(self, value)\u001b[39m\n\u001b[32m     79\u001b[39m \u001b[38;5;129m@forces\u001b[39m.setter\n\u001b[32m     80\u001b[39m \u001b[38;5;28;01mdef\u001b[39;00m\u001b[38;5;250m \u001b[39m\u001b[34mforces\u001b[39m(\u001b[38;5;28mself\u001b[39m, value):\n\u001b[32m---> \u001b[39m\u001b[32m81\u001b[39m     \u001b[43m_set_synced_list\u001b[49m\u001b[43m(\u001b[49m\u001b[38;5;28;43mself\u001b[39;49m\u001b[43m.\u001b[49m\u001b[43m_forces\u001b[49m\u001b[43m,\u001b[49m\u001b[43m \u001b[49m\u001b[43mvalue\u001b[49m\u001b[43m)\u001b[49m\n",
      "\u001b[36mFile \u001b[39m\u001b[32m~/miniforge3/envs/flowermd-dev/lib/python3.12/site-packages/hoomd/md/integrate.py:20\u001b[39m, in \u001b[36m_set_synced_list\u001b[39m\u001b[34m(old_list, new_list)\u001b[39m\n\u001b[32m     18\u001b[39m \u001b[38;5;28;01mdef\u001b[39;00m\u001b[38;5;250m \u001b[39m\u001b[34m_set_synced_list\u001b[39m(old_list, new_list):\n\u001b[32m     19\u001b[39m     old_list.clear()\n\u001b[32m---> \u001b[39m\u001b[32m20\u001b[39m     \u001b[43mold_list\u001b[49m\u001b[43m.\u001b[49m\u001b[43mextend\u001b[49m\u001b[43m(\u001b[49m\u001b[43mnew_list\u001b[49m\u001b[43m)\u001b[49m\n",
      "\u001b[36mFile \u001b[39m\u001b[32m<frozen _collections_abc>:1151\u001b[39m, in \u001b[36mextend\u001b[39m\u001b[34m(self, values)\u001b[39m\n",
      "\u001b[36mFile \u001b[39m\u001b[32m<frozen _collections_abc>:1130\u001b[39m, in \u001b[36mappend\u001b[39m\u001b[34m(self, value)\u001b[39m\n",
      "\u001b[36mFile \u001b[39m\u001b[32m~/miniforge3/envs/flowermd-dev/lib/python3.12/site-packages/hoomd/data/syncedlist.py:142\u001b[39m, in \u001b[36mSyncedList.insert\u001b[39m\u001b[34m(self, index, value)\u001b[39m\n\u001b[32m    140\u001b[39m \u001b[38;5;250m\u001b[39m\u001b[33;03m\"\"\"Insert value to list at index, handling list syncing.\"\"\"\u001b[39;00m\n\u001b[32m    141\u001b[39m value = \u001b[38;5;28mself\u001b[39m._validate_or_error(value)\n\u001b[32m--> \u001b[39m\u001b[32m142\u001b[39m \u001b[38;5;28;43mself\u001b[39;49m\u001b[43m.\u001b[49m\u001b[43m_register_item\u001b[49m\u001b[43m(\u001b[49m\u001b[43mvalue\u001b[49m\u001b[43m)\u001b[49m\n\u001b[32m    143\u001b[39m \u001b[38;5;66;03m# Wrap index like normal but allow for inserting a new element to the\u001b[39;00m\n\u001b[32m    144\u001b[39m \u001b[38;5;66;03m# beginning or end of the list for out of bounds index values.\u001b[39;00m\n\u001b[32m    145\u001b[39m \u001b[38;5;28;01mif\u001b[39;00m index <= -\u001b[38;5;28mlen\u001b[39m(\u001b[38;5;28mself\u001b[39m):\n",
      "\u001b[36mFile \u001b[39m\u001b[32m~/miniforge3/envs/flowermd-dev/lib/python3.12/site-packages/hoomd/data/syncedlist.py:195\u001b[39m, in \u001b[36mSyncedList._register_item\u001b[39m\u001b[34m(self, value)\u001b[39m\n\u001b[32m    193\u001b[39m \u001b[38;5;28;01melse\u001b[39;00m:\n\u001b[32m    194\u001b[39m     \u001b[38;5;28;01mif\u001b[39;00m value._attached:\n\u001b[32m--> \u001b[39m\u001b[32m195\u001b[39m         \u001b[38;5;28;01mraise\u001b[39;00m \u001b[38;5;167;01mRuntimeError\u001b[39;00m(\u001b[33mf\u001b[39m\u001b[33m\"\u001b[39m\u001b[33mCannot place \u001b[39m\u001b[38;5;132;01m{\u001b[39;00mvalue\u001b[38;5;132;01m}\u001b[39;00m\u001b[33m into two simulations.\u001b[39m\u001b[33m\"\u001b[39m)\n",
      "\u001b[31mRuntimeError\u001b[39m: Cannot place <hoomd.md.bond.Harmonic object at 0x28d268530> into two simulations."
     ]
    }
   ],
   "source": [
    "gsd_path=('ellipsoid-chain-2mer.gsd')\n",
    "ellipsoid_sim = Simulation(\n",
    "    initial_state=rigid_frame,\n",
    "    forcefield=ff.hoomd_forces,\n",
    "    constraint=rigid,\n",
    "    dt=0.001,\n",
    "    gsd_write_freq=int(1e4),\n",
    "    gsd_file_name=gsd_path,\n",
    "    log_write_freq=int(1e4),\n",
    "    log_file_name='log.txt')\n",
    "\n",
    "target_box = get_target_box_number_density(density=0.05*u.Unit(\"nm**-3\"),n_beads=20)\n",
    "ellipsoid_sim.run_update_volume(final_box_lengths=target_box, kT=7.0, n_steps=1e5,tau_kt=100*ellipsoid_sim.dt,period=10,thermalize_particles=True)\n",
    "print(\"shrink finished\")\n",
    "ellipsoid_sim.run_NVT(n_steps=1e5, kT=1.0, tau_kt=10*ellipsoid_sim.dt)\n",
    "#ellipsoid_sim.save_restart_gsd(\"restart.gsd\")\n",
    "ellipsoid_sim.flush_writers()\n",
    "#ellipsoid_sim.save_simulation(\"sim.pickle\")"
   ]
  },
  {
   "cell_type": "markdown",
   "id": "8289d636-a064-4873-b17a-11a232a25331",
   "metadata": {},
   "source": [
    "## Function to redefine rigid constraint for restarting simulation"
   ]
  },
  {
   "cell_type": "code",
   "execution_count": 6,
   "id": "36ea0e55-6d62-4156-b8fd-1506a56877fb",
   "metadata": {},
   "outputs": [],
   "source": [
    "def restart_rigid_ellipsoid():\n",
    "    local_coords = [(0.0, 0.0, 0.0), (1.049999999999999, 0.0, 0.0), (1.0, 0.0, 0.0), (-1.0000000000000009, 0.0, 0.0)]\n",
    "    rigid_constrain = hoomd.md.constrain.Rigid()\n",
    "    rigid_constrain.body[\"R\"] = {\n",
    "        \"constituent_types\": [\"X\", \"A\", \"T\", \"T\"],\n",
    "        \"positions\": local_coords,\n",
    "        \"orientations\": [[1, 0, 0, 0]] * len(local_coords),\n",
    "    }\n",
    "    return rigid_constrain"
   ]
  },
  {
   "cell_type": "code",
   "execution_count": 7,
   "id": "061baec6-04be-468a-aea8-bdf7cb2c505c",
   "metadata": {},
   "outputs": [
    {
     "ename": "NameError",
     "evalue": "name 'restart_rigid_ellipsoid_sim' is not defined",
     "output_type": "error",
     "traceback": [
      "\u001b[0;31m---------------------------------------------------------------------------\u001b[0m",
      "\u001b[0;31mNameError\u001b[0m                                 Traceback (most recent call last)",
      "Cell \u001b[0;32mIn[7], line 2\u001b[0m\n\u001b[1;32m      1\u001b[0m ff \u001b[38;5;241m=\u001b[39m EllipsoidForcefield(epsilon\u001b[38;5;241m=\u001b[39m\u001b[38;5;241m1.0\u001b[39m,lpar\u001b[38;5;241m=\u001b[39m\u001b[38;5;241m1.0\u001b[39m,lperp\u001b[38;5;241m=\u001b[39m\u001b[38;5;241m0.5\u001b[39m,r_cut\u001b[38;5;241m=\u001b[39m\u001b[38;5;241m2.0\u001b[39m,bond_k\u001b[38;5;241m=\u001b[39m\u001b[38;5;241m100\u001b[39m,bond_r0\u001b[38;5;241m=\u001b[39m\u001b[38;5;241m0\u001b[39m,angle_k\u001b[38;5;241m=\u001b[39m\u001b[38;5;241m30\u001b[39m,angle_theta0\u001b[38;5;241m=\u001b[39m\u001b[38;5;241m1.9\u001b[39m)\n\u001b[0;32m----> 2\u001b[0m rigid \u001b[38;5;241m=\u001b[39m \u001b[43mrestart_rigid_ellipsoid_sim\u001b[49m()\n\u001b[1;32m      3\u001b[0m gsd_path \u001b[38;5;241m=\u001b[39m \u001b[38;5;124m\"\u001b[39m\u001b[38;5;124msim_restart.gsd\u001b[39m\u001b[38;5;124m\"\u001b[39m\n\u001b[1;32m      5\u001b[0m sim \u001b[38;5;241m=\u001b[39m Simulation(\n\u001b[1;32m      6\u001b[0m     initial_state\u001b[38;5;241m=\u001b[39m\u001b[38;5;124m\"\u001b[39m\u001b[38;5;124mrestart.gsd\u001b[39m\u001b[38;5;124m\"\u001b[39m,\n\u001b[1;32m      7\u001b[0m     forcefield\u001b[38;5;241m=\u001b[39mff\u001b[38;5;241m.\u001b[39mhoomd_forces,\n\u001b[0;32m   (...)\u001b[0m\n\u001b[1;32m     12\u001b[0m     log_file_name\u001b[38;5;241m=\u001b[39m\u001b[38;5;124m'\u001b[39m\u001b[38;5;124mlog2.txt\u001b[39m\u001b[38;5;124m'\u001b[39m,\n\u001b[1;32m     13\u001b[0m )\n",
      "\u001b[0;31mNameError\u001b[0m: name 'restart_rigid_ellipsoid_sim' is not defined"
     ]
    }
   ],
   "source": [
    "ff = EllipsoidForcefield(epsilon=1.0,lpar=1.0,lperp=0.5,r_cut=2.0,bond_k=100,bond_r0=0,angle_k=30,angle_theta0=1.9)\n",
    "rigid = restart_rigid_ellipsoid_sim()\n",
    "gsd_path = \"sim_restart.gsd\"\n",
    "\n",
    "sim = Simulation(\n",
    "    initial_state=\"restart.gsd\",\n",
    "    forcefield=ff.hoomd_forces,\n",
    "    constraint=rigid,\n",
    "    gsd_write_freq=int(1e3),\n",
    "    gsd_file_name=gsd_path,\n",
    "    log_write_freq=int(1e4),\n",
    "    log_file_name='log2.txt',\n",
    ")\n",
    "sim.run_NVT(n_steps=1e5, kT=1.0, tau_kt=10*sim.dt)\n",
    "sim.flush_writers()"
   ]
  },
  {
   "cell_type": "markdown",
   "id": "f3c0804a-5d1d-4d65-a4ba-c9426158a03e",
   "metadata": {},
   "source": [
    "## Adding ellispoid information to GSD "
   ]
  },
  {
   "cell_type": "code",
   "execution_count": 16,
   "id": "8a67ed66-c969-4419-829d-a83c6d556cff",
   "metadata": {},
   "outputs": [],
   "source": [
    "import gsd.hoomd\n",
    "gsd_path=('ellipsoid-chain-2mer.gsd')\n",
    "ellipsoid_gsd(gsd_file=gsd_path,new_file=\"ovito-ellipsoid.gsd\",ellipsoid_types='R',lpar=1.0,lperp=0.5)"
   ]
  },
  {
   "cell_type": "code",
   "execution_count": 11,
   "id": "b7468b84-e6f3-4a45-9836-69ceda12b1fb",
   "metadata": {},
   "outputs": [],
   "source": [
    "def ellipsoid_gsd(gsd_file, new_file, ellipsoid_types, lpar, lperp):\n",
    "    \"\"\"Add needed information to GSD file to visualize ellipsoids.\n",
    "\n",
    "    Saves a new GSD file with lpar and lperp values populated\n",
    "    for each particle. Ovito can be used to visualize the new GSD file.\n",
    "\n",
    "    Parameters\n",
    "    ----------\n",
    "    gsd_file : str\n",
    "        Path to the original GSD file containing trajectory information\n",
    "    new_file : str\n",
    "        Path and filename of the new GSD file\n",
    "    ellipsoid_types : str or list of str\n",
    "        The particle types (i.e. names) of particles to be drawn\n",
    "        as ellipsoids.\n",
    "    lpar : float\n",
    "        Value of lpar of the ellipsoids\n",
    "    lperp : float\n",
    "        Value of lperp of the ellipsoids\n",
    "\n",
    "    \"\"\"\n",
    "    with gsd.hoomd.open(new_file, \"w\") as new_t:\n",
    "        with gsd.hoomd.open(gsd_file) as old_t:\n",
    "            for snap in old_t:\n",
    "                shape_dicts_list = []\n",
    "                for ptype in snap.particles.types:\n",
    "                    if ptype == ellipsoid_types or ptype in ellipsoid_types:\n",
    "                        shapes_dict = {\n",
    "                            \"type\": \"Ellipsoid\",\n",
    "                            \"a\": lpar,\n",
    "                            \"b\": lperp,\n",
    "                            \"c\": lperp,\n",
    "                        }\n",
    "                    else:\n",
    "                        shapes_dict = {\"type\": \"Sphere\", \"diameter\": 0.001}\n",
    "                    shape_dicts_list.append(shapes_dict)\n",
    "                snap.particles.type_shapes = shape_dicts_list\n",
    "                snap.validate()\n",
    "                new_t.append(snap)"
   ]
  },
  {
   "cell_type": "code",
   "execution_count": null,
   "id": "04f1dc51-57c0-4368-be7c-3b83cbcb02d8",
   "metadata": {},
   "outputs": [],
   "source": []
  }
 ],
 "metadata": {
  "kernelspec": {
   "display_name": "Python 3 (ipykernel)",
   "language": "python",
   "name": "python3"
  },
  "language_info": {
   "codemirror_mode": {
    "name": "ipython",
    "version": 3
   },
   "file_extension": ".py",
   "mimetype": "text/x-python",
   "name": "python",
   "nbconvert_exporter": "python",
   "pygments_lexer": "ipython3",
   "version": "3.12.11"
  }
 },
 "nbformat": 4,
 "nbformat_minor": 5
}
