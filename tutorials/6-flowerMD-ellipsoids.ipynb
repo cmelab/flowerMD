{
 "cells": [
  {
   "cell_type": "markdown",
   "id": "a7102478-583f-4968-bcd4-4c47d85e647f",
   "metadata": {},
   "source": [
    "# Overview\n",
    "\n",
    "This tutorial focuses on the modelling of polymers with ellipsoids. The concept of ellipsoid modelling is very similar to the spheroid coarse graining in [tutorial 3](./3-flowerMD-coarse-graining.ipynb), but using ellipsoids instead of spheres to model monomers.\n",
    "\n",
    "The utility of ellipsoids over standard coarse graining is to better model shapes that are not spherical. For example, PPS is a very flat molecule, and would be better modelled by an oblate ellipsoid than a sphere.\n",
    "\n",
    "Readers of this tutorial should learn how to:\n",
    "- Initialize a system of ellipsoid polymers\n",
    "- Create a rigid body constraint for an ellipsoid chain\n",
    "- Visualize a system of polymers"
   ]
  },
  {
   "cell_type": "code",
   "execution_count": 1,
   "id": "c0d4d0dc-be45-4a3f-8d1c-a3c09ca89d32",
   "metadata": {},
   "outputs": [],
   "source": [
    "import warnings\n",
    "\n",
    "warnings.filterwarnings(\"ignore\")\n",
    "import hoomd\n",
    "import unyt as u\n",
    "from flowermd.base import Pack, Simulation\n",
    "from flowermd.library import EllipsoidChain\n",
    "from flowermd.library import EllipsoidForcefield\n",
    "from flowermd.utils.constraints import create_rigid_ellipsoid_chain\n",
    "from flowermd.utils import get_target_box_number_density\n",
    "from cmeutils.gsd_utils import ellipsoid_gsd"
   ]
  },
  {
   "cell_type": "markdown",
   "id": "099a2e10-84e8-4e2d-8867-c6adffb0cc79",
   "metadata": {},
   "source": [
    "## System Initialization\n",
    "\n",
    "Ellipsoids are represented by the `EllipsoidChain` class. It can be treated like a standard `Molecule`.\n",
    "\n",
    "The ellipsoidal geometry is defined by two parameters: `lpar` and `lperp`. These represent the major and minor axis lengths, respectively. `lpar` > `lperp` will create a prolate ellipsoid, and `lpar` < `lperp` will create an oblate ellipsoid. `lpar` = `lperp` will create a sphere.\n",
    "\n",
    "`bead_mass` defines the mass of each monomer in the polymer."
   ]
  },
  {
   "cell_type": "code",
   "execution_count": 2,
   "id": "8b02a48c-efac-46af-a421-c6c21e8b0936",
   "metadata": {},
   "outputs": [],
   "source": [
    "LPAR = 1.0\n",
    "LPERP = 0.5\n",
    "BOND_L = 0.05\n",
    "\n",
    "GSD_PATH = \"traj.gsd\"\n",
    "\n",
    "ellipsoid_chain = EllipsoidChain(\n",
    "    lengths=5, num_mols=5, lpar=LPAR, bead_mass=1.0\n",
    ")\n",
    "system = Pack(\n",
    "    molecules=ellipsoid_chain,\n",
    "    density=0.01 * u.Unit(\"nm**-3\"),\n",
    "    packing_expand_factor=6,\n",
    "    edge=2,\n",
    "    overlap=2,\n",
    "    fix_orientation=True,\n",
    ")"
   ]
  },
  {
   "cell_type": "markdown",
   "id": "b81b046b-e40c-4f86-a248-afce3a6f25ea",
   "metadata": {},
   "source": [
    "## Forcefield definition\n",
    "\n",
    "The `EllipsoidForcefield` class is used to represent the forces between each ellipsoid, and uses the Gay-Berne forcefield, which is similar to a Lennard-Jones forcefield, but takes the orientation and shape of an ellipsoid into account.\n",
    "\n",
    "Epsilon defines how deep the energy well for the Gay-Berne potential graph should be."
   ]
  },
  {
   "cell_type": "code",
   "execution_count": 3,
   "id": "294093ca-b4d0-4dde-9892-1376790c5ca2",
   "metadata": {},
   "outputs": [],
   "source": [
    "ff = EllipsoidForcefield(\n",
    "    epsilon=1.0,\n",
    "    lpar=LPAR,\n",
    "    lperp=LPERP,\n",
    "    r_cut=2.0,\n",
    "    bond_k=100,\n",
    "    bond_r0=0,\n",
    "    angle_k=30,\n",
    "    angle_theta0=1.9,\n",
    ")"
   ]
  },
  {
   "cell_type": "markdown",
   "id": "eb5b77c5-70d9-4a55-8f51-9580ff3377c0",
   "metadata": {},
   "source": [
    "## Rigid Body Constraint\n",
    "\n",
    "The construction of each ellipsoidal monomer consists of a center ('X' particle), bond ('A' particle), head ('T' particle), and tail (also 'T' particle) all assembled into one compound. The `create_rigid_ellipsoid_chain` function defines a frame and a constraint to be supplied to the simulation that will ensure the body does not change shape. The `lperp` parameter in this function is necessary to calculate the moment of inertia for the particles in the supplied frame.\n",
    "\n",
    "The `rigid_frame` variable is identical to `system.hoomd_snapshot`, but with each monomer replaced with a rigid body ellipsoid.\n",
    "\n",
    "The `rigid_constraint` variable is a constraint that is to be passed into the simulation to ensure that each body remains rigid throughout the simulation."
   ]
  },
  {
   "cell_type": "code",
   "execution_count": 4,
   "id": "f7c9f312-1c89-4bca-aa98-e0fa2f3629be",
   "metadata": {},
   "outputs": [
    {
     "ename": "TypeError",
     "evalue": "create_rigid_ellipsoid_chain() takes 1 positional argument but 2 were given",
     "output_type": "error",
     "traceback": [
      "\u001b[31m---------------------------------------------------------------------------\u001b[39m",
      "\u001b[31mTypeError\u001b[39m                                 Traceback (most recent call last)",
      "\u001b[36mCell\u001b[39m\u001b[36m \u001b[39m\u001b[32mIn[4]\u001b[39m\u001b[32m, line 1\u001b[39m\n\u001b[32m----> \u001b[39m\u001b[32m1\u001b[39m rigid_frame, rigid_constraint = \u001b[43mcreate_rigid_ellipsoid_chain\u001b[49m\u001b[43m(\u001b[49m\n\u001b[32m      2\u001b[39m \u001b[43m    \u001b[49m\u001b[43msystem\u001b[49m\u001b[43m.\u001b[49m\u001b[43mhoomd_snapshot\u001b[49m\u001b[43m,\u001b[49m\u001b[43m \u001b[49m\u001b[43mLPERP\u001b[49m\n\u001b[32m      3\u001b[39m \u001b[43m)\u001b[49m\n",
      "\u001b[31mTypeError\u001b[39m: create_rigid_ellipsoid_chain() takes 1 positional argument but 2 were given"
     ]
    }
   ],
   "source": [
    "rigid_frame, rigid_constraint = create_rigid_ellipsoid_chain(\n",
    "    system.hoomd_snapshot, LPERP\n",
    ")"
   ]
  },
  {
   "cell_type": "markdown",
   "id": "55dbbf68-10f4-43d6-a743-11931ce7d0e4",
   "metadata": {},
   "source": [
    "## Simulation\n",
    "\n",
    "The simulation of ellipsoids behaves largely identically to other simulations that have been introduced thus far."
   ]
  },
  {
   "cell_type": "code",
   "execution_count": null,
   "id": "087db7f2-1a71-4186-9490-51e504ecdb5c",
   "metadata": {},
   "outputs": [],
   "source": [
    "ellipsoid_sim = Simulation(\n",
    "    initial_state=rigid_frame,\n",
    "    forcefield=ff.hoomd_forces,\n",
    "    constraint=rigid_constraint,\n",
    "    dt=0.001,\n",
    "    gsd_write_freq=int(1e4),\n",
    "    gsd_file_name=GSD_PATH,\n",
    "    log_write_freq=int(1e4),\n",
    "    log_file_name=\"ellipsoid.txt\",\n",
    ")\n",
    "\n",
    "target_box = get_target_box_number_density(\n",
    "    density=0.03 * u.Unit(\"nm**-3\"), n_beads=25\n",
    ")\n",
    "ellipsoid_sim.run_update_volume(\n",
    "    final_box_lengths=target_box,\n",
    "    kT=1.0,\n",
    "    n_steps=int(5e4),\n",
    "    tau_kt=10 * ellipsoid_sim.dt,\n",
    "    period=10,\n",
    "    thermalize_particles=True,\n",
    ")\n",
    "print(\"shrink finished\")\n",
    "ellipsoid_sim.run_NVT(n_steps=1e4, kT=1.0, tau_kt=10 * ellipsoid_sim.dt)\n",
    "ellipsoid_sim.save_restart_gsd(\"restart.gsd\")\n",
    "ellipsoid_sim.flush_writers()\n",
    "ellipsoid_sim.save_simulation(\"sim.pickle\")"
   ]
  },
  {
   "cell_type": "markdown",
   "id": "8289d636-a064-4873-b17a-11a232a25331",
   "metadata": {},
   "source": [
    "## Restarting Simulation with Rigid Constraint\n",
    "\n",
    "When restarting a simulation, one must still apply the rigid constraint. However, the rigid constraint used previously cannot be reused. Thus, this function can be used to create a new rigid constraint"
   ]
  },
  {
   "cell_type": "code",
   "execution_count": null,
   "id": "36ea0e55-6d62-4156-b8fd-1506a56877fb",
   "metadata": {},
   "outputs": [],
   "source": [
    "def restart_rigid_ellipsoid() -> hoomd.md.constrain.Rigid:\n",
    "    local_coords = [\n",
    "        (0.0, 0.0, 0.0),\n",
    "        (LPAR + BOND_L, 0.0, 0.0),\n",
    "        (LPAR, 0.0, 0.0),\n",
    "        (-LPAR, 0.0, 0.0),\n",
    "    ]\n",
    "    rigid_constrain = hoomd.md.constrain.Rigid()\n",
    "    rigid_constrain.body[\"R\"] = {\n",
    "        \"constituent_types\": [\"X\", \"A\", \"T\", \"T\"],\n",
    "        \"positions\": local_coords,\n",
    "        \"orientations\": [[1, 0, 0, 0]] * len(local_coords),\n",
    "    }\n",
    "    return rigid_constrain"
   ]
  },
  {
   "cell_type": "code",
   "execution_count": null,
   "id": "061baec6-04be-468a-aea8-bdf7cb2c505c",
   "metadata": {},
   "outputs": [],
   "source": [
    "ff = EllipsoidForcefield(\n",
    "    epsilon=1.0,\n",
    "    lpar=LPAR,\n",
    "    lperp=LPERP,\n",
    "    r_cut=2.0,\n",
    "    bond_k=100,\n",
    "    bond_r0=0,\n",
    "    angle_k=30,\n",
    "    angle_theta0=1.9,\n",
    ")\n",
    "\n",
    "rigid = restart_rigid_ellipsoid()\n",
    "gsd_path = \"sim_restart.gsd\"\n",
    "\n",
    "sim = Simulation(\n",
    "    initial_state=\"restart.gsd\",\n",
    "    forcefield=ff.hoomd_forces,\n",
    "    constraint=rigid,\n",
    "    gsd_write_freq=int(1e3),\n",
    "    gsd_file_name=gsd_path,\n",
    "    log_write_freq=int(1e4),\n",
    "    log_file_name=\"log2.txt\",\n",
    ")\n",
    "sim.run_NVT(n_steps=1e5, kT=1.0, tau_kt=10 * sim.dt)\n",
    "sim.flush_writers()"
   ]
  },
  {
   "cell_type": "markdown",
   "id": "f3c0804a-5d1d-4d65-a4ba-c9426158a03e",
   "metadata": {},
   "source": [
    "## Adding ellipsoid information to GSD\n",
    "\n",
    "By default, the GSD file will not include any information about the ellipsoids themselves, and when you attempt to visualize the ellipsoid, each monomer will simply appear as 4 spheres due to how the body was constructed (see [Rigid Body Constraint](#Rigid-Body-Constraint)). In order to embed the geometrical information about the ellipsoid into a new GSD file, one can use the `ellipsoid_gsd` function from `cmeutils.gsd_utils`.\n",
    "\n",
    "The new file that has all of the data one needs to visualize is supplied in the `new_file` argument. In this case, 'visual-ellipsoid.gsd' will contain the correct data.\n",
    "\n",
    "The `ellipsoid_types` argument tells `ellipsoid_gsd` which particles to embed the ellipsoid information for. For ellipsoids, we use 'R', which represents the rigid body for every monomer.\n",
    "\n",
    "One can visualize ellipsoids by opening \"visual-ellipsoid.gsd\" inside of a visualization tool such as [OVITO](https://www.ovito.org/)"
   ]
  },
  {
   "cell_type": "code",
   "execution_count": null,
   "id": "8a67ed66-c969-4419-829d-a83c6d556cff",
   "metadata": {},
   "outputs": [],
   "source": [
    "ellipsoid_gsd(\n",
    "    gsd_file=GSD_PATH,\n",
    "    new_file=\"visual-ellipsoid.gsd\",\n",
    "    ellipsoid_types=\"R\",\n",
    "    lpar=LPAR,\n",
    "    lperp=LPERP,\n",
    ")"
   ]
  }
 ],
 "metadata": {
  "kernelspec": {
   "display_name": "Python 3 (ipykernel)",
   "language": "python",
   "name": "python3"
  },
  "language_info": {
   "codemirror_mode": {
    "name": "ipython",
    "version": 3
   },
   "file_extension": ".py",
   "mimetype": "text/x-python",
   "name": "python",
   "nbconvert_exporter": "python",
   "pygments_lexer": "ipython3",
   "version": "3.12.0"
  }
 },
 "nbformat": 4,
 "nbformat_minor": 5
}
