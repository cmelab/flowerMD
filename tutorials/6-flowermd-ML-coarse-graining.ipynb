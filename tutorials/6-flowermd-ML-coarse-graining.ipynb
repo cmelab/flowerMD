{
 "cells": [
  {
   "cell_type": "markdown",
   "id": "4a6081d0145fc389",
   "metadata": {},
   "source": [
    "# Machine Learning Coarse Graining"
   ]
  },
  {
   "cell_type": "markdown",
   "id": "cc2b9b5cf453f5c1",
   "metadata": {},
   "source": []
  },
  {
   "cell_type": "markdown",
   "id": "158f67b502f31887",
   "metadata": {},
   "source": [
    "## Overview:"
   ]
  },
  {
   "cell_type": "markdown",
   "id": "8f62eb06512930c9",
   "metadata": {},
   "source": "This tutorial demonstrates how to use a pre-trained machine learning model to predict forces in a coarse-grained system."
  },
  {
   "cell_type": "code",
   "execution_count": 1,
   "id": "33066317013e39b1",
   "metadata": {
    "ExecuteTime": {
     "end_time": "2025-02-16T19:20:46.755042Z",
     "start_time": "2025-02-16T19:20:44.582915Z"
    }
   },
   "outputs": [],
   "source": [
    "from flowermd import Simulation"
   ]
  },
  {
   "cell_type": "markdown",
   "id": "b75a0f45e7db509d",
   "metadata": {},
   "source": [
    "### Isotropic Coarse Graining with FlowerMD"
   ]
  },
  {
   "cell_type": "markdown",
   "id": "2a7396722bb5d25b",
   "metadata": {},
   "source": [
    "We first load a pre-trained pytorch model and apply it to system of spherical (isotropic) particles.\n",
    "This model uses neighbor lists to predict forces between particles in the system. The model is trained on a dataset of Lennard-Jones systems with 200 particles.\n",
    "\n",
    "We use a pre-trained pytorch neural network to determine the forces between particles based on the relative distance vector between each particle and its 40th nearest neighbors. This model was trained for 1000 epochs with a batch size of 128 and an Adam optimizer. The best model checkpoint is saved to a file, which we will load and apply to a simulation.\n",
    "\n",
    "The `load_isotropic_custom_force` function loads the pre-trained model and creates a custom force object that can be applied to a simulation. This custom force object is like a look-up function for the simulation, providing the net force on each particle at each time step."
   ]
  },
  {
   "cell_type": "markdown",
   "id": "2acf80f17ebf75c9",
   "metadata": {},
   "source": [
    "The `load_isotropic_custom_force` function loads the pre-trained model and creates a custom force object that can be applied to a simulation. This custom force object is like a look-up function for the simulation, providing the net force on each particle at each time step."
   ]
  },
  {
   "cell_type": "code",
   "execution_count": null,
   "id": "1b2fd9817d93b45e",
   "metadata": {},
   "outputs": [],
   "source": [
    "from flowermd.modules.coarse_graining_ML.isotropic.isotropic_coarse_graining import (\n",
    "    load_isotropic_custom_force,\n",
    "    LJNeighborModelConfig,\n",
    ")\n",
    "\n",
    "best_model_path = \"data/isotropic_best_model_checkpoint.pth\"\n",
    "lj_system = \"data/LJ_system_N200.gsd\"\n",
    "model_config = LJNeighborModelConfig(\n",
    "    number_neighbors=40,\n",
    "    hidden_dim=128,\n",
    "    n_layers=3,\n",
    "    act_fn=\"Tanh\",\n",
    "    dropout=0.3,\n",
    "    batch_norm=False,\n",
    "    box_len=6,\n",
    "    prior_energy=True,\n",
    "    prior_energy_sigma=1,\n",
    "    prior_energy_n=12,\n",
    ")\n",
    "custom_force = load_isotropic_custom_force(\n",
    "    model_config, best_model_path=best_model_path\n",
    ")\n",
    "sim = Simulation(\n",
    "    initial_state=lj_system,\n",
    "    forcefield=[custom_force],\n",
    "    gsd_file_name=\"LJ_trajectory.gsd\",\n",
    "    log_file_name=\"LJ_log.txt\",\n",
    ")\n",
    "sim.run_NVT(temperature=3.0, duration=10000, tau_kt=0.1)\n",
    "sim.flush_writers()\n",
    "print(\"done\")"
   ]
  },
  {
   "cell_type": "markdown",
   "id": "a83d20a1ddfef7bd",
   "metadata": {},
   "source": [
    "#"
   ]
  },
  {
   "cell_type": "markdown",
   "id": "e9cb884b9b36a76a",
   "metadata": {},
   "source": [
    "### Anisotropic Coarse Graining with FlowerMD"
   ]
  },
  {
   "cell_type": "markdown",
   "id": "190ecd2ac3d2f53a",
   "metadata": {},
   "source": "This example demonstrates how to use a pre-trained machine learning model to predict forces and torques in a coarse-grained system of anisotropic particles. The model is trained on a dataset of anisotropic system with 200 PPS monomers. Two models are trained: one for predicting forces and another for predicting torques. The model uses neighbor lists to predict forces and torques between particles in the system."
  },
  {
   "cell_type": "code",
   "execution_count": 6,
   "id": "621985a1e0f22934",
   "metadata": {
    "ExecuteTime": {
     "end_time": "2025-02-16T22:20:35.974281Z",
     "start_time": "2025-02-16T22:19:42.549317Z"
    }
   },
   "outputs": [
    {
     "name": "stdout",
     "output_type": "stream",
     "text": [
      "Initializing simulation state from a GSD file.\n",
      "done\n"
     ]
    }
   ],
   "source": [
    "from flowermd.modules.coarse_graining_ML.anisotropic import (\n",
    "    load_anisotropic_custom_force,\n",
    "    ForTorPredictorNNModelConfig,\n",
    ")\n",
    "import unyt as u\n",
    "\n",
    "force_model_path = \"data/aniso_force_model_checkpoint.pth\"\n",
    "torque_model_path = \"data/aniso_torque_model_checkpoint.pth\"\n",
    "pps_system = \"data/PPS_system_N200.gsd\"\n",
    "model_config = ForTorPredictorNNModelConfig(\n",
    "    number_neighbors=30,\n",
    "    hidden_dim=512,\n",
    "    n_layers=3,\n",
    "    act_fn=\"Tanh\",\n",
    "    dropout=0.3,\n",
    "    batch_norm=False,\n",
    "    box_len=9.551452,\n",
    ")\n",
    "custom_force = load_anisotropic_custom_force(\n",
    "    model_config,\n",
    "    force_model_path=force_model_path,\n",
    "    torque_model_path=torque_model_path,\n",
    ")\n",
    "ref_values = {\n",
    "    \"energy\": 1.7782 * u.Unit(\"kJ/mol\"),\n",
    "    \"length\": 0.36 * u.Unit(\"nm\"),\n",
    "    \"mass\": 32.06 * u.Unit(\"amu\"),\n",
    "}\n",
    "sim = Simulation(\n",
    "    initial_state=pps_system,\n",
    "    forcefield=[custom_force],\n",
    "    gsd_file_name=\"PPS_aniso_trajectory.gsd\",\n",
    "    log_file_name=\"PPS_aniso_log.txt\",\n",
    "    integrate_rotational_dof=True,\n",
    "    reference_values=ref_values,\n",
    ")\n",
    "sim.run_NVT(temperature=3.0, duration=1000, tau_kt=0.1)\n",
    "sim.flush_writers()\n",
    "print(\"done\")"
   ]
  }
 ],
 "metadata": {
  "kernelspec": {
   "display_name": "Python 3 (ipykernel)",
   "language": "python",
   "name": "python3"
  },
  "language_info": {
   "codemirror_mode": {
    "name": "ipython",
    "version": 3
   },
   "file_extension": ".py",
   "mimetype": "text/x-python",
   "name": "python",
   "nbconvert_exporter": "python",
   "pygments_lexer": "ipython3",
   "version": "3.11.10"
  }
 },
 "nbformat": 4,
 "nbformat_minor": 5
}
